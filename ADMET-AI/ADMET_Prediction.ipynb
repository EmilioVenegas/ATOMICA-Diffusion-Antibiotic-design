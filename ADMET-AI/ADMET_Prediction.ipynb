{
  "cells": [
    {
      "cell_type": "markdown",
      "metadata": {},
      "source": [
        "# ADMET-AI Prediction\n",
        "\n",
        "This notebook uses ADMET-AI to make ADMET (Absorption, Distribution, Metabolism, Excretion, Toxicity) predictions.\n",
        "\n",
        "Source: https://github.com/swansonk14/admet_ai\n"
      ]
    },
    {
      "cell_type": "markdown",
      "metadata": {},
      "source": [
        "## Environment Setup\n",
        "\n",
        "Set up conda environment 'admet_ai' to avoid dependency conflicts.\n"
      ]
    },
    {
      "cell_type": "code",
      "execution_count": null,
      "metadata": {},
      "outputs": [],
      "source": [
        "# Create conda environment if it doesn't exist\n",
        "# Run this in terminal if needed:\n",
        "# conda create -y -n admet_ai python=3.12\n",
        "# conda activate admet_ai\n",
        "# pip install admet-ai\n"
      ]
    },
    {
      "cell_type": "code",
      "execution_count": null,
      "metadata": {},
      "outputs": [],
      "source": [
        "# Install ADMET-AI (run this in the admet_ai environment)\n",
        "#%pip install admet-ai\n"
      ]
    },
    {
      "cell_type": "code",
      "execution_count": null,
      "metadata": {},
      "outputs": [],
      "source": [
        "# Verify Python environment\n",
        "import sys\n",
        "print(f\"Python executable: {sys.executable}\")\n",
        "print(f\"Python version: {sys.version}\")\n"
      ]
    },
    {
      "cell_type": "markdown",
      "metadata": {},
      "source": [
        "## ADMET Predictions\n",
        "\n",
        "Using the ADMET-AI Python module to make predictions.\n"
      ]
    },
    {
      "cell_type": "code",
      "execution_count": null,
      "metadata": {},
      "outputs": [],
      "source": [
        "from admet_ai import ADMETModel\n",
        "\n",
        "model = ADMETModel()\n",
        "preds = model.predict(smiles=\"O(c1ccc(cc1)CCOC)CC(O)CNC(C)C\")\n",
        "\n",
        "# Display predictions\n",
        "print(\"ADMET Predictions:\")\n",
        "print(preds)\n"
      ]
    }
  ],
  "metadata": {
    "kernelspec": {
      "display_name": "Python 3",
      "language": "python",
      "name": "python3"
    },
    "language_info": {
      "name": "python",
      "version": "3.12.12"
    }
  },
  "nbformat": 4,
  "nbformat_minor": 2
}
