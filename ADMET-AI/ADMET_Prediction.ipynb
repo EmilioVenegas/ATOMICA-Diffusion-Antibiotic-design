{
  "cells": [
    {
      "cell_type": "markdown",
      "metadata": {},
      "source": [
        "# ADMET-AI Prediction\n",
        "\n",
        "This notebook uses ADMET-AI to make ADMET (Absorption, Distribution, Metabolism, Excretion, Toxicity) predictions.\n",
        "\n",
        "Source: https://github.com/swansonk14/admet_ai\n"
      ]
    },
    {
      "cell_type": "markdown",
      "metadata": {},
      "source": [
        "## Environment Setup\n",
        "\n",
        "Set up conda environment 'admet_ai' to avoid dependency conflicts.\n"
      ]
    },
    {
      "cell_type": "code",
      "execution_count": 1,
      "metadata": {},
      "outputs": [],
      "source": [
        "# Create conda environment if it doesn't exist\n",
        "# Run this in terminal if needed:\n",
        "# conda create -y -n admet_ai python=3.12\n",
        "# conda activate admet_ai\n",
        "# pip install admet-ai\n"
      ]
    },
    {
      "cell_type": "code",
      "execution_count": 2,
      "metadata": {},
      "outputs": [],
      "source": [
        "# Install ADMET-AI (run this in the admet_ai environment)\n",
        "#%pip install admet-ai\n"
      ]
    },
    {
      "cell_type": "code",
      "execution_count": 3,
      "metadata": {},
      "outputs": [
        {
          "name": "stdout",
          "output_type": "stream",
          "text": [
            "Python executable: c:\\Users\\khcod\\micromamba\\envs\\admet_ai\\python.exe\n",
            "Python version: 3.12.12 | packaged by Anaconda, Inc. | (main, Oct 21 2025, 20:05:38) [MSC v.1929 64 bit (AMD64)]\n"
          ]
        }
      ],
      "source": [
        "# Verify Python environment\n",
        "import sys\n",
        "print(f\"Python executable: {sys.executable}\")\n",
        "print(f\"Python version: {sys.version}\")\n"
      ]
    },
    {
      "cell_type": "markdown",
      "metadata": {},
      "source": [
        "## ADMET Predictions\n",
        "\n",
        "Using the ADMET-AI Python module to make predictions.\n"
      ]
    },
    {
      "cell_type": "code",
      "execution_count": null,
      "metadata": {},
      "outputs": [
        {
          "name": "stderr",
          "output_type": "stream",
          "text": [
            "<frozen importlib._bootstrap>:488: RuntimeWarning: to-Python converter for class boost::shared_ptr<class RDKit::FilterHierarchyMatcher> already registered; second conversion method ignored.\n",
            "c:\\Users\\khcod\\micromamba\\envs\\admet_ai\\Lib\\site-packages\\hyperopt\\atpe.py:19: UserWarning: pkg_resources is deprecated as an API. See https://setuptools.pypa.io/en/latest/pkg_resources.html. The pkg_resources package is slated for removal as early as 2025-11-30. Refrain from using this package or pin to Setuptools<81.\n",
            "  import pkg_resources\n",
            "c:\\Users\\khcod\\micromamba\\envs\\admet_ai\\Lib\\site-packages\\chemprop\\utils.py:473: FutureWarning: You are using `torch.load` with `weights_only=False` (the current default value), which uses the default pickle module implicitly. It is possible to construct malicious pickle data which will execute arbitrary code during unpickling (See https://github.com/pytorch/pytorch/blob/main/SECURITY.md#untrusted-models for more details). In a future release, the default value for `weights_only` will be flipped to `True`. This limits the functions that could be executed during unpickling. Arbitrary objects will no longer be allowed to be loaded via this mode unless they are explicitly allowlisted by the user via `torch.serialization.add_safe_globals`. We recommend you start setting `weights_only=True` for any use case where you don't have full control of the loaded file. Please open an issue on GitHub for any issues related to this experimental feature.\n",
            "  vars(torch.load(path, map_location=lambda storage, loc: storage)[\"args\"]),\n",
            "c:\\Users\\khcod\\micromamba\\envs\\admet_ai\\Lib\\site-packages\\chemprop\\utils.py:112: FutureWarning: You are using `torch.load` with `weights_only=False` (the current default value), which uses the default pickle module implicitly. It is possible to construct malicious pickle data which will execute arbitrary code during unpickling (See https://github.com/pytorch/pytorch/blob/main/SECURITY.md#untrusted-models for more details). In a future release, the default value for `weights_only` will be flipped to `True`. This limits the functions that could be executed during unpickling. Arbitrary objects will no longer be allowed to be loaded via this mode unless they are explicitly allowlisted by the user via `torch.serialization.add_safe_globals`. We recommend you start setting `weights_only=True` for any use case where you don't have full control of the loaded file. Please open an issue on GitHub for any issues related to this experimental feature.\n",
            "  state = torch.load(path, map_location=lambda storage, loc: storage)\n"
          ]
        },
        {
          "name": "stdout",
          "output_type": "stream",
          "text": [
            "Loading pretrained parameter \"encoder.encoder.0.cached_zero_vector\".\n",
            "Loading pretrained parameter \"encoder.encoder.0.W_i.weight\".\n",
            "Loading pretrained parameter \"encoder.encoder.0.W_h.weight\".\n",
            "Loading pretrained parameter \"encoder.encoder.0.W_o.weight\".\n",
            "Loading pretrained parameter \"encoder.encoder.0.W_o.bias\".\n",
            "Loading pretrained parameter \"readout.1.weight\".\n",
            "Loading pretrained parameter \"readout.1.bias\".\n",
            "Loading pretrained parameter \"readout.4.weight\".\n",
            "Loading pretrained parameter \"readout.4.bias\".\n",
            "Loading pretrained parameter \"encoder.encoder.0.cached_zero_vector\".\n",
            "Loading pretrained parameter \"encoder.encoder.0.W_i.weight\".\n",
            "Loading pretrained parameter \"encoder.encoder.0.W_h.weight\".\n",
            "Loading pretrained parameter \"encoder.encoder.0.W_o.weight\".\n",
            "Loading pretrained parameter \"encoder.encoder.0.W_o.bias\".\n",
            "Loading pretrained parameter \"readout.1.weight\".\n",
            "Loading pretrained parameter \"readout.1.bias\".\n",
            "Loading pretrained parameter \"readout.4.weight\".\n",
            "Loading pretrained parameter \"readout.4.bias\".\n",
            "Loading pretrained parameter \"encoder.encoder.0.cached_zero_vector\".\n",
            "Loading pretrained parameter \"encoder.encoder.0.W_i.weight\".\n",
            "Loading pretrained parameter \"encoder.encoder.0.W_h.weight\".\n",
            "Loading pretrained parameter \"encoder.encoder.0.W_o.weight\".\n",
            "Loading pretrained parameter \"encoder.encoder.0.W_o.bias\".\n",
            "Loading pretrained parameter \"readout.1.weight\".\n",
            "Loading pretrained parameter \"readout.1.bias\".\n",
            "Loading pretrained parameter \"readout.4.weight\".\n",
            "Loading pretrained parameter \"readout.4.bias\".\n",
            "Loading pretrained parameter \"encoder.encoder.0.cached_zero_vector\".\n",
            "Loading pretrained parameter \"encoder.encoder.0.W_i.weight\".\n",
            "Loading pretrained parameter \"encoder.encoder.0.W_h.weight\".\n",
            "Loading pretrained parameter \"encoder.encoder.0.W_o.weight\".\n",
            "Loading pretrained parameter \"encoder.encoder.0.W_o.bias\".\n",
            "Loading pretrained parameter \"readout.1.weight\".\n",
            "Loading pretrained parameter \"readout.1.bias\".\n",
            "Loading pretrained parameter \"readout.4.weight\".\n",
            "Loading pretrained parameter \"readout.4.bias\".\n",
            "Loading pretrained parameter \"encoder.encoder.0.cached_zero_vector\".\n",
            "Loading pretrained parameter \"encoder.encoder.0.W_i.weight\".\n",
            "Loading pretrained parameter \"encoder.encoder.0.W_h.weight\".\n",
            "Loading pretrained parameter \"encoder.encoder.0.W_o.weight\".\n",
            "Loading pretrained parameter \"encoder.encoder.0.W_o.bias\".\n",
            "Loading pretrained parameter \"readout.1.weight\".\n",
            "Loading pretrained parameter \"readout.1.bias\".\n",
            "Loading pretrained parameter \"readout.4.weight\".\n",
            "Loading pretrained parameter \"readout.4.bias\".\n"
          ]
        },
        {
          "name": "stderr",
          "output_type": "stream",
          "text": [
            "c:\\Users\\khcod\\micromamba\\envs\\admet_ai\\Lib\\site-packages\\chemprop\\utils.py:418: FutureWarning: You are using `torch.load` with `weights_only=False` (the current default value), which uses the default pickle module implicitly. It is possible to construct malicious pickle data which will execute arbitrary code during unpickling (See https://github.com/pytorch/pytorch/blob/main/SECURITY.md#untrusted-models for more details). In a future release, the default value for `weights_only` will be flipped to `True`. This limits the functions that could be executed during unpickling. Arbitrary objects will no longer be allowed to be loaded via this mode unless they are explicitly allowlisted by the user via `torch.serialization.add_safe_globals`. We recommend you start setting `weights_only=True` for any use case where you don't have full control of the loaded file. Please open an issue on GitHub for any issues related to this experimental feature.\n",
            "  state = torch.load(path, map_location=lambda storage, loc: storage)\n"
          ]
        },
        {
          "name": "stdout",
          "output_type": "stream",
          "text": [
            "Loading pretrained parameter \"encoder.encoder.0.cached_zero_vector\".\n",
            "Loading pretrained parameter \"encoder.encoder.0.W_i.weight\".\n",
            "Loading pretrained parameter \"encoder.encoder.0.W_h.weight\".\n",
            "Loading pretrained parameter \"encoder.encoder.0.W_o.weight\".\n",
            "Loading pretrained parameter \"encoder.encoder.0.W_o.bias\".\n",
            "Loading pretrained parameter \"readout.1.weight\".\n",
            "Loading pretrained parameter \"readout.1.bias\".\n",
            "Loading pretrained parameter \"readout.4.weight\".\n",
            "Loading pretrained parameter \"readout.4.bias\".\n",
            "Loading pretrained parameter \"encoder.encoder.0.cached_zero_vector\".\n",
            "Loading pretrained parameter \"encoder.encoder.0.W_i.weight\".\n",
            "Loading pretrained parameter \"encoder.encoder.0.W_h.weight\".\n",
            "Loading pretrained parameter \"encoder.encoder.0.W_o.weight\".\n",
            "Loading pretrained parameter \"encoder.encoder.0.W_o.bias\".\n",
            "Loading pretrained parameter \"readout.1.weight\".\n",
            "Loading pretrained parameter \"readout.1.bias\".\n",
            "Loading pretrained parameter \"readout.4.weight\".\n",
            "Loading pretrained parameter \"readout.4.bias\".\n",
            "Loading pretrained parameter \"encoder.encoder.0.cached_zero_vector\".\n",
            "Loading pretrained parameter \"encoder.encoder.0.W_i.weight\".\n",
            "Loading pretrained parameter \"encoder.encoder.0.W_h.weight\".\n",
            "Loading pretrained parameter \"encoder.encoder.0.W_o.weight\".\n",
            "Loading pretrained parameter \"encoder.encoder.0.W_o.bias\".\n",
            "Loading pretrained parameter \"readout.1.weight\".\n",
            "Loading pretrained parameter \"readout.1.bias\".\n",
            "Loading pretrained parameter \"readout.4.weight\".\n",
            "Loading pretrained parameter \"readout.4.bias\".\n",
            "Loading pretrained parameter \"encoder.encoder.0.cached_zero_vector\".\n",
            "Loading pretrained parameter \"encoder.encoder.0.W_i.weight\".\n",
            "Loading pretrained parameter \"encoder.encoder.0.W_h.weight\".\n",
            "Loading pretrained parameter \"encoder.encoder.0.W_o.weight\".\n",
            "Loading pretrained parameter \"encoder.encoder.0.W_o.bias\".\n",
            "Loading pretrained parameter \"readout.1.weight\".\n",
            "Loading pretrained parameter \"readout.1.bias\".\n",
            "Loading pretrained parameter \"readout.4.weight\".\n",
            "Loading pretrained parameter \"readout.4.bias\".\n",
            "Loading pretrained parameter \"encoder.encoder.0.cached_zero_vector\".\n",
            "Loading pretrained parameter \"encoder.encoder.0.W_i.weight\".\n",
            "Loading pretrained parameter \"encoder.encoder.0.W_h.weight\".\n",
            "Loading pretrained parameter \"encoder.encoder.0.W_o.weight\".\n",
            "Loading pretrained parameter \"encoder.encoder.0.W_o.bias\".\n",
            "Loading pretrained parameter \"readout.1.weight\".\n",
            "Loading pretrained parameter \"readout.1.bias\".\n",
            "Loading pretrained parameter \"readout.4.weight\".\n",
            "Loading pretrained parameter \"readout.4.bias\".\n"
          ]
        },
        {
          "name": "stderr",
          "output_type": "stream",
          "text": [
            "SMILES to Mol: 100%|██████████| 1/1 [00:00<00:00, 205.21it/s]\n",
            "Computing physchem properties: 100%|██████████| 1/1 [00:00<?, ?it/s]\n",
            "RDKit fingerprints: 100%|██████████| 1/1 [00:00<00:00, 24.99it/s]\n",
            "model ensembles:   0%|          | 0/2 [00:00<?, ?it/s]\n",
            "\u001b[A\n",
            "\u001b[A\n",
            "\u001b[A\n",
            "\u001b[A\n",
            "\u001b[A\n",
            "\u001b[A\n",
            "\u001b[A\n",
            "\u001b[A\n",
            "\u001b[A\n",
            "individual models: 100%|██████████| 5/5 [00:00<00:00, 78.21it/s]\n",
            "\n",
            "\u001b[A\n",
            "\u001b[A\n",
            "\u001b[A\n",
            "\u001b[A\n",
            "\u001b[A\n",
            "\u001b[A\n",
            "\u001b[A\n",
            "\u001b[A\n",
            "\u001b[A\n",
            "individual models: 100%|██████████| 5/5 [00:00<00:00, 109.14it/s]\n",
            "model ensembles: 100%|██████████| 2/2 [00:00<00:00, 17.25it/s]\n"
          ]
        }
      ],
      "source": [
        "from admet_ai import ADMETModel\n",
        "\n",
        "model = ADMETModel()\n",
        "preds = model.predict(smiles=\"O(c1ccc(cc1)CCOC)CC(O)CNC(C)C\")\n"
      ]
    },
    {
      "cell_type": "code",
      "execution_count": 7,
      "metadata": {},
      "outputs": [
        {
          "name": "stdout",
          "output_type": "stream",
          "text": [
            "List of ADMET Property Keys:\n",
            "==================================================\n",
            " 1. molecular_weight\n",
            " 2. logP\n",
            " 3. hydrogen_bond_acceptors\n",
            " 4. hydrogen_bond_donors\n",
            " 5. Lipinski\n",
            " 6. QED\n",
            " 7. stereo_centers\n",
            " 8. tpsa\n",
            " 9. AMES\n",
            "10. BBB_Martins\n",
            "11. Bioavailability_Ma\n",
            "12. CYP1A2_Veith\n",
            "13. CYP2C19_Veith\n",
            "14. CYP2C9_Substrate_CarbonMangels\n",
            "15. CYP2C9_Veith\n",
            "16. CYP2D6_Substrate_CarbonMangels\n",
            "17. CYP2D6_Veith\n",
            "18. CYP3A4_Substrate_CarbonMangels\n",
            "19. CYP3A4_Veith\n",
            "20. Carcinogens_Lagunin\n",
            "21. ClinTox\n",
            "22. DILI\n",
            "23. HIA_Hou\n",
            "24. NR-AR-LBD\n",
            "25. NR-AR\n",
            "26. NR-AhR\n",
            "27. NR-Aromatase\n",
            "28. NR-ER-LBD\n",
            "29. NR-ER\n",
            "30. NR-PPAR-gamma\n",
            "31. PAMPA_NCATS\n",
            "32. Pgp_Broccatelli\n",
            "33. SR-ARE\n",
            "34. SR-ATAD5\n",
            "35. SR-HSE\n",
            "36. SR-MMP\n",
            "37. SR-p53\n",
            "38. Skin_Reaction\n",
            "39. hERG\n",
            "40. Caco2_Wang\n",
            "41. Clearance_Hepatocyte_AZ\n",
            "42. Clearance_Microsome_AZ\n",
            "43. Half_Life_Obach\n",
            "44. HydrationFreeEnergy_FreeSolv\n",
            "45. LD50_Zhu\n",
            "46. Lipophilicity_AstraZeneca\n",
            "47. PPBR_AZ\n",
            "48. Solubility_AqSolDB\n",
            "49. VDss_Lombardo\n",
            "50. molecular_weight_drugbank_approved_percentile\n",
            "51. logP_drugbank_approved_percentile\n",
            "52. hydrogen_bond_acceptors_drugbank_approved_percentile\n",
            "53. hydrogen_bond_donors_drugbank_approved_percentile\n",
            "54. Lipinski_drugbank_approved_percentile\n",
            "55. QED_drugbank_approved_percentile\n",
            "56. stereo_centers_drugbank_approved_percentile\n",
            "57. tpsa_drugbank_approved_percentile\n",
            "58. AMES_drugbank_approved_percentile\n",
            "59. BBB_Martins_drugbank_approved_percentile\n",
            "60. Bioavailability_Ma_drugbank_approved_percentile\n",
            "61. CYP1A2_Veith_drugbank_approved_percentile\n",
            "62. CYP2C19_Veith_drugbank_approved_percentile\n",
            "63. CYP2C9_Substrate_CarbonMangels_drugbank_approved_percentile\n",
            "64. CYP2C9_Veith_drugbank_approved_percentile\n",
            "65. CYP2D6_Substrate_CarbonMangels_drugbank_approved_percentile\n",
            "66. CYP2D6_Veith_drugbank_approved_percentile\n",
            "67. CYP3A4_Substrate_CarbonMangels_drugbank_approved_percentile\n",
            "68. CYP3A4_Veith_drugbank_approved_percentile\n",
            "69. Carcinogens_Lagunin_drugbank_approved_percentile\n",
            "70. ClinTox_drugbank_approved_percentile\n",
            "71. DILI_drugbank_approved_percentile\n",
            "72. HIA_Hou_drugbank_approved_percentile\n",
            "73. NR-AR-LBD_drugbank_approved_percentile\n",
            "74. NR-AR_drugbank_approved_percentile\n",
            "75. NR-AhR_drugbank_approved_percentile\n",
            "76. NR-Aromatase_drugbank_approved_percentile\n",
            "77. NR-ER-LBD_drugbank_approved_percentile\n",
            "78. NR-ER_drugbank_approved_percentile\n",
            "79. NR-PPAR-gamma_drugbank_approved_percentile\n",
            "80. PAMPA_NCATS_drugbank_approved_percentile\n",
            "81. Pgp_Broccatelli_drugbank_approved_percentile\n",
            "82. SR-ARE_drugbank_approved_percentile\n",
            "83. SR-ATAD5_drugbank_approved_percentile\n",
            "84. SR-HSE_drugbank_approved_percentile\n",
            "85. SR-MMP_drugbank_approved_percentile\n",
            "86. SR-p53_drugbank_approved_percentile\n",
            "87. Skin_Reaction_drugbank_approved_percentile\n",
            "88. hERG_drugbank_approved_percentile\n",
            "89. Caco2_Wang_drugbank_approved_percentile\n",
            "90. Clearance_Hepatocyte_AZ_drugbank_approved_percentile\n",
            "91. Clearance_Microsome_AZ_drugbank_approved_percentile\n",
            "92. Half_Life_Obach_drugbank_approved_percentile\n",
            "93. HydrationFreeEnergy_FreeSolv_drugbank_approved_percentile\n",
            "94. LD50_Zhu_drugbank_approved_percentile\n",
            "95. Lipophilicity_AstraZeneca_drugbank_approved_percentile\n",
            "96. PPBR_AZ_drugbank_approved_percentile\n",
            "97. Solubility_AqSolDB_drugbank_approved_percentile\n",
            "98. VDss_Lombardo_drugbank_approved_percentile\n",
            "\n",
            "Total properties: 98\n",
            "\n",
            "\n",
            "Full predictions dictionary:\n",
            "{'molecular_weight': 267.369, 'logP': 1.6131999999999997, 'hydrogen_bond_acceptors': 4.0, 'hydrogen_bond_donors': 2.0, 'Lipinski': 4.0, 'QED': 0.7135696186852984, 'stereo_centers': 1.0, 'tpsa': 50.72, 'AMES': 0.05029045157134533, 'BBB_Martins': 0.6027289927005768, 'Bioavailability_Ma': 0.9117547869682312, 'CYP1A2_Veith': 0.1064218319952488, 'CYP2C19_Veith': 0.05501440465450287, 'CYP2C9_Substrate_CarbonMangels': 0.08333752825856208, 'CYP2C9_Veith': 0.004176702862605452, 'CYP2D6_Substrate_CarbonMangels': 0.8224924802780151, 'CYP2D6_Veith': 0.36821656227111815, 'CYP3A4_Substrate_CarbonMangels': 0.21682137250900269, 'CYP3A4_Veith': 0.007005597371608019, 'Carcinogens_Lagunin': 0.19050724133849145, 'ClinTox': 0.11829195022583008, 'DILI': 0.012615183368325233, 'HIA_Hou': 0.9990445852279664, 'NR-AR-LBD': 0.0018025058205239474, 'NR-AR': 0.0161631528288126, 'NR-AhR': 0.025982777029275893, 'NR-Aromatase': 0.0020849141292274, 'NR-ER-LBD': 0.003831711015664041, 'NR-ER': 0.08347823768854142, 'NR-PPAR-gamma': 0.0008780379052041098, 'PAMPA_NCATS': 0.8766368627548218, 'Pgp_Broccatelli': 0.050373923406004904, 'SR-ARE': 0.012489269697107374, 'SR-ATAD5': 0.0002849712735041976, 'SR-HSE': 0.003269090480171144, 'SR-MMP': 0.0019159403222147376, 'SR-p53': 0.00037771926436107605, 'Skin_Reaction': 0.49268577694892884, 'hERG': 0.5052155613899231, 'Caco2_Wang': -4.630231252802403, 'Clearance_Hepatocyte_AZ': 7.048271935234377, 'Clearance_Microsome_AZ': -7.312457819392304, 'Half_Life_Obach': -20.45813853943287, 'HydrationFreeEnergy_FreeSolv': -11.14013423377194, 'LD50_Zhu': 2.1428496359850397, 'Lipophilicity_AstraZeneca': -0.4439330792862536, 'PPBR_AZ': 25.930750598770498, 'Solubility_AqSolDB': -0.956266792271211, 'VDss_Lombardo': -1.0607491954700052, 'molecular_weight_drugbank_approved_percentile': 31.75649476541295, 'logP_drugbank_approved_percentile': 40.4032570763862, 'hydrogen_bond_acceptors_drugbank_approved_percentile': 46.47150058162078, 'hydrogen_bond_donors_drugbank_approved_percentile': 60.85692128732067, 'Lipinski_drugbank_approved_percentile': 63.80379992245056, 'QED_drugbank_approved_percentile': 76.81271810779371, 'stereo_centers_drugbank_approved_percentile': 54.80806514152772, 'tpsa_drugbank_approved_percentile': 31.310585498255136, 'AMES_drugbank_approved_percentile': 19.73633191159364, 'BBB_Martins_drugbank_approved_percentile': 38.1155486622722, 'Bioavailability_Ma_drugbank_approved_percentile': 77.2004652966266, 'CYP1A2_Veith_drugbank_approved_percentile': 61.03140752229546, 'CYP2C19_Veith_drugbank_approved_percentile': 39.821636293136876, 'CYP2C9_Substrate_CarbonMangels_drugbank_approved_percentile': 30.283055447848003, 'CYP2C9_Veith_drugbank_approved_percentile': 20.78324932144242, 'CYP2D6_Substrate_CarbonMangels_drugbank_approved_percentile': 97.44086855370298, 'CYP2D6_Veith_drugbank_approved_percentile': 82.04730515703761, 'CYP3A4_Substrate_CarbonMangels_drugbank_approved_percentile': 25.319891430787127, 'CYP3A4_Veith_drugbank_approved_percentile': 29.778984102365257, 'Carcinogens_Lagunin_drugbank_approved_percentile': 57.115160915083365, 'ClinTox_drugbank_approved_percentile': 55.06010081426909, 'DILI_drugbank_approved_percentile': 4.303993796044979, 'HIA_Hou_drugbank_approved_percentile': 66.4598681659558, 'NR-AR-LBD_drugbank_approved_percentile': 15.509887553315238, 'NR-AR_drugbank_approved_percentile': 38.4257464133385, 'NR-AhR_drugbank_approved_percentile': 51.182628925940286, 'NR-Aromatase_drugbank_approved_percentile': 21.79139201240791, 'NR-ER-LBD_drugbank_approved_percentile': 17.254749903063203, 'NR-ER_drugbank_approved_percentile': 47.34393175649476, 'NR-PPAR-gamma_drugbank_approved_percentile': 24.117875145405193, 'PAMPA_NCATS_drugbank_approved_percentile': 63.047692904226444, 'Pgp_Broccatelli_drugbank_approved_percentile': 42.6521907716169, 'SR-ARE_drugbank_approved_percentile': 12.058937572702597, 'SR-ATAD5_drugbank_approved_percentile': 12.291585886002327, 'SR-HSE_drugbank_approved_percentile': 23.226056611089568, 'SR-MMP_drugbank_approved_percentile': 17.797595967429235, 'SR-p53_drugbank_approved_percentile': 6.979449398991857, 'Skin_Reaction_drugbank_approved_percentile': 57.076386196200076, 'hERG_drugbank_approved_percentile': 64.09461031407523, 'Caco2_Wang_drugbank_approved_percentile': 71.92710352849942, 'Clearance_Hepatocyte_AZ_drugbank_approved_percentile': 20.473051570376114, 'Clearance_Microsome_AZ_drugbank_approved_percentile': 19.193485847227606, 'Half_Life_Obach_drugbank_approved_percentile': 7.9488173710740595, 'HydrationFreeEnergy_FreeSolv_drugbank_approved_percentile': 34.93602171384257, 'LD50_Zhu_drugbank_approved_percentile': 27.181077937184956, 'Lipophilicity_AstraZeneca_drugbank_approved_percentile': 20.08530438154323, 'PPBR_AZ_drugbank_approved_percentile': 7.754943776657619, 'Solubility_AqSolDB_drugbank_approved_percentile': 84.02481582008531, 'VDss_Lombardo_drugbank_approved_percentile': 28.11167119038387}\n"
          ]
        }
      ],
      "source": [
        "# Display predictions\n",
        "# Display predictions\n",
        "print(\"List of ADMET Property Keys:\")\n",
        "print(\"=\" * 50)\n",
        "keys_list = list(preds.keys())\n",
        "for i, key in enumerate(keys_list, 1):\n",
        "    print(f\"{i:2}. {key}\")\n",
        "\n",
        "print(f\"\\nTotal properties: {len(keys_list)}\")\n",
        "print(\"\\n\\nFull predictions dictionary:\")\n",
        "print(preds)"
      ]
    },
    {
      "cell_type": "markdown",
      "metadata": {},
      "source": [
        "# Composite ADMET Score\n",
        "\n",
        "- paper compares percentiles to known properties for each in large drugbank dataset e.g. *NR-Aromatase_drugbank_approved_percentile*\n",
        "- known ensemble ranking method for these properties? Important for selecting top N"
      ]
    },
    {
      "cell_type": "markdown",
      "metadata": {},
      "source": []
    },
    {
      "cell_type": "code",
      "execution_count": null,
      "metadata": {},
      "outputs": [],
      "source": []
    }
  ],
  "metadata": {
    "kernelspec": {
      "display_name": "Python 3",
      "language": "python",
      "name": "python3"
    },
    "language_info": {
      "codemirror_mode": {
        "name": "ipython",
        "version": 3
      },
      "file_extension": ".py",
      "mimetype": "text/x-python",
      "name": "python",
      "nbconvert_exporter": "python",
      "pygments_lexer": "ipython3",
      "version": "3.12.12"
    }
  },
  "nbformat": 4,
  "nbformat_minor": 2
}
